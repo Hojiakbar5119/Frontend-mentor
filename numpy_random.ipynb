{
  "nbformat": 4,
  "nbformat_minor": 0,
  "metadata": {
    "colab": {
      "provenance": [],
      "toc_visible": true,
      "authorship_tag": "ABX9TyMKSQWriCa2QGPPrYm9JZZz",
      "include_colab_link": true
    },
    "kernelspec": {
      "name": "python3",
      "display_name": "Python 3"
    },
    "language_info": {
      "name": "python"
    }
  },
  "cells": [
    {
      "cell_type": "markdown",
      "metadata": {
        "id": "view-in-github",
        "colab_type": "text"
      },
      "source": [
        "<a href=\"https://colab.research.google.com/github/Hojiakbardevs/Frontend-mentor/blob/master/numpy_random.ipynb\" target=\"_parent\"><img src=\"https://colab.research.google.com/assets/colab-badge.svg\" alt=\"Open In Colab\"/></a>"
      ]
    },
    {
      "cell_type": "code",
      "execution_count": null,
      "metadata": {
        "id": "LzQ_1WdFKEFD"
      },
      "outputs": [],
      "source": [
        "import numpy as np\n",
        "from numpy import random"
      ]
    },
    {
      "cell_type": "code",
      "source": [
        "data1=[[23,4,5,23],[2,3,4,2],[2,3,4,2]]\n",
        "\n",
        "data2=np.array(data1)\n"
      ],
      "metadata": {
        "id": "Ju4RrMfRKNeS"
      },
      "execution_count": null,
      "outputs": []
    },
    {
      "cell_type": "code",
      "source": [
        "# data2.shape\n",
        "# data2.size"
      ],
      "metadata": {
        "id": "w9hwY4roKkk8"
      },
      "execution_count": null,
      "outputs": []
    },
    {
      "cell_type": "code",
      "source": [
        "# data2.zero()\n",
        "arr3 = np.zeros(shape=(3,4))\n",
        "print(arr3)\n",
        "arr5 = np.arange(2,24,3)\n",
        "print(arr5)"
      ],
      "metadata": {
        "colab": {
          "base_uri": "https://localhost:8080/"
        },
        "id": "Vp6Dg9O5MPdI",
        "outputId": "8e98b146-d5f2-4ae2-c1c6-6d005e10748b"
      },
      "execution_count": null,
      "outputs": [
        {
          "output_type": "stream",
          "name": "stdout",
          "text": [
            "[[0. 0. 0. 0.]\n",
            " [0. 0. 0. 0.]\n",
            " [0. 0. 0. 0.]]\n",
            "[ 2  5  8 11 14 17 20 23]\n"
          ]
        }
      ]
    },
    {
      "cell_type": "code",
      "source": [
        "a= np.arange(16).reshape(8,2)\n",
        "print(a)\n",
        "b=np.zeros_like(a)\n",
        "print(b)"
      ],
      "metadata": {
        "id": "pFshUDQCRKVs"
      },
      "execution_count": null,
      "outputs": []
    },
    {
      "cell_type": "code",
      "source": [
        "# eyess=np.identity(87)\n",
        "# print(eyess)\n",
        "arr77 = np.arange(0,23,)\n",
        "\n",
        "print(arr77)"
      ],
      "metadata": {
        "colab": {
          "base_uri": "https://localhost:8080/"
        },
        "id": "vpf19GORRm1P",
        "outputId": "b17cbdef-5d9f-43c4-e2b3-2495833d331f"
      },
      "execution_count": null,
      "outputs": [
        {
          "output_type": "stream",
          "name": "stdout",
          "text": [
            "[ 0  4  8 12 16 20]\n"
          ]
        }
      ]
    },
    {
      "cell_type": "code",
      "source": [
        "def salom_ber(ism):\n",
        "  print(f\"Assalomu alaykum {ism.title()}\")\n",
        "salom_ber(\"Hojiakbar\")"
      ],
      "metadata": {
        "colab": {
          "base_uri": "https://localhost:8080/"
        },
        "id": "gWnAvAR_eCJS",
        "outputId": "c84231ba-3e57-41dd-9258-cb082c937292"
      },
      "execution_count": null,
      "outputs": [
        {
          "output_type": "stream",
          "name": "stdout",
          "text": [
            "Assalomu alaykum Hojiakbar\n"
          ]
        }
      ]
    },
    {
      "cell_type": "markdown",
      "source": [
        "ushbu N-o'lchamli massivlar yaratish\n",
        "\n",
        "**Masala(1):** 1-o'lchamli massivlar yaratish\n",
        "\n",
        "Masala sharti : Elementlari ixtiyoriy n ta (n > 0, butun son) bo'lgan 1-o'lchamli massiv (array) yaratuvchi funksiyani davom ettiring.\n",
        "\n",
        "Yordam : array yoki random funksiyasidan foydalaning."
      ],
      "metadata": {
        "id": "C7JRLL-6eehr"
      }
    },
    {
      "cell_type": "code",
      "source": [
        "def one_dim(n):\n",
        "  return random.randint(100, size=(n))\n",
        "\n",
        "one_dim(20)"
      ],
      "metadata": {
        "colab": {
          "base_uri": "https://localhost:8080/"
        },
        "id": "DS22A4tGeZ7v",
        "outputId": "8edfcc1e-02c9-41dd-9c8e-6994c68a57e0"
      },
      "execution_count": null,
      "outputs": [
        {
          "output_type": "execute_result",
          "data": {
            "text/plain": [
              "array([95, 14, 43, 24,  7, 80, 83,  0, 71, 77, 68, 94, 30, 93,  5, 23, 10,\n",
              "       31, 72, 33])"
            ]
          },
          "metadata": {},
          "execution_count": 87
        }
      ]
    },
    {
      "cell_type": "code",
      "source": [
        "x = random.randint(100, size=(5))\n",
        "print(x)\n",
        "\n",
        "\n",
        "arr = np.array(45)\n",
        "\n",
        "print(arr)"
      ],
      "metadata": {
        "colab": {
          "base_uri": "https://localhost:8080/"
        },
        "id": "OFE3gb6miRga",
        "outputId": "d9d5f982-edd5-4108-b297-86404c53bb75"
      },
      "execution_count": null,
      "outputs": [
        {
          "output_type": "stream",
          "name": "stdout",
          "text": [
            "[14 13 85 88 87]\n",
            "45\n"
          ]
        }
      ]
    },
    {
      "cell_type": "code",
      "source": [
        "brakets=np.array([1,2,3,4], ndmin=4)\n",
        "brakets"
      ],
      "metadata": {
        "colab": {
          "base_uri": "https://localhost:8080/"
        },
        "id": "MN9E92SXvoXc",
        "outputId": "70d83562-ddd0-421f-8745-d22eb8dee7c0"
      },
      "execution_count": null,
      "outputs": [
        {
          "output_type": "execute_result",
          "data": {
            "text/plain": [
              "array([[[[1, 2, 3, 4]]]])"
            ]
          },
          "metadata": {},
          "execution_count": 93
        }
      ]
    }
  ]
}